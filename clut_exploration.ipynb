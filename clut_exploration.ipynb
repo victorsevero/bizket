{
 "cells": [
  {
   "cell_type": "code",
   "execution_count": 1,
   "metadata": {},
   "outputs": [],
   "source": [
    "import numpy as np\n",
    "from PIL import Image"
   ]
  },
  {
   "cell_type": "code",
   "execution_count": 2,
   "metadata": {},
   "outputs": [
    {
     "data": {
      "text/plain": [
       "'P'"
      ]
     },
     "execution_count": 2,
     "metadata": {},
     "output_type": "execute_result"
    }
   ],
   "source": [
    "im = Image.open('x_parts.bmp')\n",
    "im.mode"
   ]
  },
  {
   "cell_type": "code",
   "execution_count": 11,
   "metadata": {},
   "outputs": [
    {
     "data": {
      "image/png": "[encoded data removed]",
      "text/plain": [
       "<PIL.PngImagePlugin.PngImageFile image mode=P size=256x256>"
      ]
     },
     "execution_count": 11,
     "metadata": {},
     "output_type": "execute_result"
    }
   ],
   "source": [
    "im"
   ]
  },
  {
   "cell_type": "code",
   "execution_count": 5,
   "metadata": {},
   "outputs": [
    {
     "data": {
      "text/plain": [
       "array([[0, 0, 0, ..., 0, 0, 0],\n",
       "       [0, 0, 0, ..., 0, 0, 0],\n",
       "       [0, 0, 0, ..., 0, 0, 0],\n",
       "       ...,\n",
       "       [0, 0, 0, ..., 0, 0, 0],\n",
       "       [0, 0, 0, ..., 0, 0, 0],\n",
       "       [0, 0, 0, ..., 0, 0, 0]], dtype=uint8)"
      ]
     },
     "execution_count": 5,
     "metadata": {},
     "output_type": "execute_result"
    }
   ],
   "source": [
    "arr = np.array(im)\n",
    "arr"
   ]
  },
  {
   "cell_type": "code",
   "execution_count": 12,
   "metadata": {},
   "outputs": [
    {
     "data": {
      "text/plain": [
       "[0,\n",
       " 0,\n",
       " 0,\n",
       " 231,\n",
       " 41,\n",
       " 33,\n",
       " 99,\n",
       " 41,\n",
       " 24,\n",
       " 214,\n",
       " 123,\n",
       " 90,\n",
       " 222,\n",
       " 173,\n",
       " 140,\n",
       " 49,\n",
       " 198,\n",
       " 165,\n",
       " 24,\n",
       " 140,\n",
       " 107,\n",
       " 33,\n",
       " 74,\n",
       " 99,\n",
       " 189,\n",
       " 198,\n",
       " 214,\n",
       " 148,\n",
       " 156,\n",
       " 173,\n",
       " 82,\n",
       " 99,\n",
       " 123,\n",
       " 41,\n",
       " 49,\n",
       " 57,\n",
       " 57,\n",
       " 132,\n",
       " 222,\n",
       " 49,\n",
       " 107,\n",
       " 206,\n",
       " 33,\n",
       " 66,\n",
       " 173,\n",
       " 33,\n",
       " 49,\n",
       " 123]"
      ]
     },
     "execution_count": 12,
     "metadata": {},
     "output_type": "execute_result"
    }
   ],
   "source": [
    "pal = im.getpalette()\n",
    "pal"
   ]
  },
  {
   "cell_type": "code",
   "execution_count": 19,
   "metadata": {},
   "outputs": [
    {
     "data": {
      "image/png": "[encoded data removed]",
      "text/plain": [
       "<PIL.Image.Image image mode=P size=256x256>"
      ]
     },
     "execution_count": 19,
     "metadata": {},
     "output_type": "execute_result"
    }
   ],
   "source": [
    "im2 = Image.fromarray(arr,).convert('P')\n",
    "im2.putpalette(pal)\n",
    "im2"
   ]
  },
  {
   "cell_type": "code",
   "execution_count": 26,
   "metadata": {},
   "outputs": [
    {
     "data": {
      "text/plain": [
       "0     56461\n",
       "10     1521\n",
       "5      1393\n",
       "7      1026\n",
       "8      1011\n",
       "9       935\n",
       "6       589\n",
       "13      583\n",
       "15      412\n",
       "14      367\n",
       "12      282\n",
       "2       269\n",
       "1       220\n",
       "3       178\n",
       "4       154\n",
       "11      135\n",
       "dtype: int64"
      ]
     },
     "execution_count": 26,
     "metadata": {},
     "output_type": "execute_result"
    }
   ],
   "source": [
    "import pandas as pd\n",
    "pd.Series(arr.flatten()).value_counts(ascending=False)"
   ]
  },
  {
   "cell_type": "code",
   "execution_count": 49,
   "metadata": {},
   "outputs": [
    {
     "data": {
      "text/plain": [
       "(0, 0, 0)          56461\n",
       "(82, 99, 123)       1521\n",
       "(49, 198, 165)      1393\n",
       "(33, 74, 99)        1026\n",
       "(189, 198, 214)     1011\n",
       "(148, 156, 173)      935\n",
       "(24, 140, 107)       589\n",
       "(49, 107, 206)       583\n",
       "(33, 49, 123)        412\n",
       "(33, 66, 173)        367\n",
       "(57, 132, 222)       282\n",
       "(99, 41, 24)         269\n",
       "(231, 41, 33)        220\n",
       "(214, 123, 90)       178\n",
       "(222, 173, 140)      154\n",
       "(41, 49, 57)         135\n",
       "dtype: int64"
      ]
     },
     "execution_count": 49,
     "metadata": {},
     "output_type": "execute_result"
    }
   ],
   "source": [
    "rgb_arr = np.array(im.convert('RGB'))\n",
    "rgb = [tuple(x) for x in rgb_arr.reshape(-1, 3)]\n",
    "pd.Series(rgb).value_counts(ascending=False)"
   ]
  },
  {
   "cell_type": "code",
   "execution_count": 52,
   "metadata": {},
   "outputs": [
    {
     "name": "stdout",
     "output_type": "stream",
     "text": [
      "0x0\n",
      "0x0\n",
      "0x0\n",
      "0xe7\n",
      "0x29\n",
      "0x21\n",
      "0x63\n",
      "0x29\n",
      "0x18\n",
      "0xd6\n",
      "0x7b\n",
      "0x5a\n",
      "0xde\n",
      "0xad\n",
      "0x8c\n",
      "0x31\n",
      "0xc6\n",
      "0xa5\n",
      "0x18\n",
      "0x8c\n",
      "0x6b\n",
      "0x21\n",
      "0x4a\n",
      "0x63\n",
      "0xbd\n",
      "0xc6\n",
      "0xd6\n",
      "0x94\n",
      "0x9c\n",
      "0xad\n",
      "0x52\n",
      "0x63\n",
      "0x7b\n",
      "0x29\n",
      "0x31\n",
      "0x39\n",
      "0x39\n",
      "0x84\n",
      "0xde\n",
      "0x31\n",
      "0x6b\n",
      "0xce\n",
      "0x21\n",
      "0x42\n",
      "0xad\n",
      "0x21\n",
      "0x31\n",
      "0x7b\n"
     ]
    }
   ],
   "source": [
    "for c in pal:\n",
    "    print(hex(c))"
   ]
  }
 ],
 "metadata": {
  "kernelspec": {
   "display_name": "Python 3.8.13 ('bizket-ktm8EiiX-py3.8')",
   "language": "python",
   "name": "python3"
  },
  "language_info": {
   "codemirror_mode": {
    "name": "ipython",
    "version": 3
   },
   "file_extension": ".py",
   "mimetype": "text/x-python",
   "name": "python",
   "nbconvert_exporter": "python",
   "pygments_lexer": "ipython3",
   "version": "3.8.13"
  },
  "orig_nbformat": 4,
  "vscode": {
   "interpreter": {
    "hash": "8def8c0575f2e3c607f9dbd4d40fb7065d683dbeb8f8d69bd3447734485cdfad"
   }
  }
 },
 "nbformat": 4,
 "nbformat_minor": 2
}
