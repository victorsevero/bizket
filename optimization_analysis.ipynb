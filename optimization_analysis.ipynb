{
 "cells": [
  {
   "cell_type": "code",
   "execution_count": 12,
   "metadata": {},
   "outputs": [],
   "source": [
    "import optuna\n",
    "from optuna.visualization import plot_optimization_history\n",
    "import matplotlib.pyplot as plt\n",
    "from matplotlib import rcParams\n",
    "import seaborn as sns\n",
    "\n",
    "\n",
    "sns.set_theme()\n",
    "rcParams['figure.figsize'] = 20, 6"
   ]
  },
  {
   "cell_type": "code",
   "execution_count": 2,
   "metadata": {},
   "outputs": [
    {
     "data": {
      "text/html": [
       "<div>\n",
       "<style scoped>\n",
       "    .dataframe tbody tr th:only-of-type {\n",
       "        vertical-align: middle;\n",
       "    }\n",
       "\n",
       "    .dataframe tbody tr th {\n",
       "        vertical-align: top;\n",
       "    }\n",
       "\n",
       "    .dataframe thead th {\n",
       "        text-align: right;\n",
       "    }\n",
       "</style>\n",
       "<table border=\"1\" class=\"dataframe\">\n",
       "  <thead>\n",
       "    <tr style=\"text-align: right;\">\n",
       "      <th></th>\n",
       "      <th>number</th>\n",
       "      <th>value</th>\n",
       "      <th>datetime_start</th>\n",
       "      <th>datetime_complete</th>\n",
       "      <th>duration</th>\n",
       "      <th>params_activation_fn</th>\n",
       "      <th>params_batch_size</th>\n",
       "      <th>params_clip_range</th>\n",
       "      <th>params_ent_coef</th>\n",
       "      <th>params_gae_lambda</th>\n",
       "      <th>params_gamma</th>\n",
       "      <th>params_learning_rate</th>\n",
       "      <th>params_lr_schedule</th>\n",
       "      <th>params_max_grad_norm</th>\n",
       "      <th>params_n_epochs</th>\n",
       "      <th>params_n_steps</th>\n",
       "      <th>params_ortho_init</th>\n",
       "      <th>params_vf_coef</th>\n",
       "      <th>state</th>\n",
       "    </tr>\n",
       "  </thead>\n",
       "  <tbody>\n",
       "    <tr>\n",
       "      <th>0</th>\n",
       "      <td>0</td>\n",
       "      <td>-1.000000</td>\n",
       "      <td>2022-12-10 02:36:45.358435</td>\n",
       "      <td>2022-12-10 02:56:45.539865</td>\n",
       "      <td>0 days 00:20:00.181430</td>\n",
       "      <td>relu</td>\n",
       "      <td>128</td>\n",
       "      <td>0.3</td>\n",
       "      <td>1.802955e-08</td>\n",
       "      <td>0.99</td>\n",
       "      <td>0.9990</td>\n",
       "      <td>0.000010</td>\n",
       "      <td>constant</td>\n",
       "      <td>0.3</td>\n",
       "      <td>10</td>\n",
       "      <td>64</td>\n",
       "      <td>True</td>\n",
       "      <td>0.132850</td>\n",
       "      <td>COMPLETE</td>\n",
       "    </tr>\n",
       "    <tr>\n",
       "      <th>1</th>\n",
       "      <td>1</td>\n",
       "      <td>-1.000000</td>\n",
       "      <td>2022-12-10 02:56:45.698649</td>\n",
       "      <td>2022-12-10 03:19:24.754507</td>\n",
       "      <td>0 days 00:22:39.055858</td>\n",
       "      <td>leaky_relu</td>\n",
       "      <td>128</td>\n",
       "      <td>0.1</td>\n",
       "      <td>4.979379e-02</td>\n",
       "      <td>0.90</td>\n",
       "      <td>0.9999</td>\n",
       "      <td>0.005084</td>\n",
       "      <td>constant</td>\n",
       "      <td>0.6</td>\n",
       "      <td>20</td>\n",
       "      <td>32</td>\n",
       "      <td>False</td>\n",
       "      <td>0.834779</td>\n",
       "      <td>COMPLETE</td>\n",
       "    </tr>\n",
       "    <tr>\n",
       "      <th>2</th>\n",
       "      <td>2</td>\n",
       "      <td>-1.000000</td>\n",
       "      <td>2022-12-10 03:19:24.903501</td>\n",
       "      <td>2022-12-10 03:38:40.826221</td>\n",
       "      <td>0 days 00:19:15.922720</td>\n",
       "      <td>tanh</td>\n",
       "      <td>256</td>\n",
       "      <td>0.4</td>\n",
       "      <td>1.266721e-02</td>\n",
       "      <td>0.95</td>\n",
       "      <td>0.9500</td>\n",
       "      <td>0.590092</td>\n",
       "      <td>constant</td>\n",
       "      <td>0.8</td>\n",
       "      <td>5</td>\n",
       "      <td>2048</td>\n",
       "      <td>True</td>\n",
       "      <td>0.559427</td>\n",
       "      <td>COMPLETE</td>\n",
       "    </tr>\n",
       "    <tr>\n",
       "      <th>3</th>\n",
       "      <td>3</td>\n",
       "      <td>-1.000000</td>\n",
       "      <td>2022-12-10 03:38:40.979428</td>\n",
       "      <td>2022-12-10 03:58:47.952598</td>\n",
       "      <td>0 days 00:20:06.973170</td>\n",
       "      <td>elu</td>\n",
       "      <td>256</td>\n",
       "      <td>0.2</td>\n",
       "      <td>2.017828e-05</td>\n",
       "      <td>0.80</td>\n",
       "      <td>0.9800</td>\n",
       "      <td>0.000188</td>\n",
       "      <td>linear</td>\n",
       "      <td>0.8</td>\n",
       "      <td>10</td>\n",
       "      <td>2048</td>\n",
       "      <td>True</td>\n",
       "      <td>0.158336</td>\n",
       "      <td>COMPLETE</td>\n",
       "    </tr>\n",
       "    <tr>\n",
       "      <th>4</th>\n",
       "      <td>4</td>\n",
       "      <td>-1.000000</td>\n",
       "      <td>2022-12-10 03:58:48.106619</td>\n",
       "      <td>2022-12-10 04:19:56.000612</td>\n",
       "      <td>0 days 00:21:07.893993</td>\n",
       "      <td>elu</td>\n",
       "      <td>128</td>\n",
       "      <td>0.2</td>\n",
       "      <td>4.865538e-03</td>\n",
       "      <td>0.80</td>\n",
       "      <td>0.9500</td>\n",
       "      <td>0.000015</td>\n",
       "      <td>constant</td>\n",
       "      <td>0.8</td>\n",
       "      <td>10</td>\n",
       "      <td>4096</td>\n",
       "      <td>True</td>\n",
       "      <td>0.704179</td>\n",
       "      <td>COMPLETE</td>\n",
       "    </tr>\n",
       "    <tr>\n",
       "      <th>...</th>\n",
       "      <td>...</td>\n",
       "      <td>...</td>\n",
       "      <td>...</td>\n",
       "      <td>...</td>\n",
       "      <td>...</td>\n",
       "      <td>...</td>\n",
       "      <td>...</td>\n",
       "      <td>...</td>\n",
       "      <td>...</td>\n",
       "      <td>...</td>\n",
       "      <td>...</td>\n",
       "      <td>...</td>\n",
       "      <td>...</td>\n",
       "      <td>...</td>\n",
       "      <td>...</td>\n",
       "      <td>...</td>\n",
       "      <td>...</td>\n",
       "      <td>...</td>\n",
       "      <td>...</td>\n",
       "    </tr>\n",
       "    <tr>\n",
       "      <th>95</th>\n",
       "      <td>95</td>\n",
       "      <td>-0.583333</td>\n",
       "      <td>2022-12-11 13:48:11.435665</td>\n",
       "      <td>2022-12-11 14:08:22.484680</td>\n",
       "      <td>0 days 00:20:11.049015</td>\n",
       "      <td>leaky_relu</td>\n",
       "      <td>512</td>\n",
       "      <td>0.1</td>\n",
       "      <td>3.070402e-07</td>\n",
       "      <td>0.99</td>\n",
       "      <td>0.9900</td>\n",
       "      <td>0.000041</td>\n",
       "      <td>constant</td>\n",
       "      <td>0.3</td>\n",
       "      <td>20</td>\n",
       "      <td>128</td>\n",
       "      <td>False</td>\n",
       "      <td>0.365926</td>\n",
       "      <td>COMPLETE</td>\n",
       "    </tr>\n",
       "    <tr>\n",
       "      <th>96</th>\n",
       "      <td>96</td>\n",
       "      <td>0.062500</td>\n",
       "      <td>2022-12-11 14:08:22.632682</td>\n",
       "      <td>2022-12-11 14:28:40.336682</td>\n",
       "      <td>0 days 00:20:17.704000</td>\n",
       "      <td>leaky_relu</td>\n",
       "      <td>512</td>\n",
       "      <td>0.1</td>\n",
       "      <td>1.927717e-07</td>\n",
       "      <td>0.99</td>\n",
       "      <td>0.9900</td>\n",
       "      <td>0.000257</td>\n",
       "      <td>constant</td>\n",
       "      <td>0.6</td>\n",
       "      <td>20</td>\n",
       "      <td>128</td>\n",
       "      <td>False</td>\n",
       "      <td>0.308513</td>\n",
       "      <td>COMPLETE</td>\n",
       "    </tr>\n",
       "    <tr>\n",
       "      <th>97</th>\n",
       "      <td>97</td>\n",
       "      <td>-1.000000</td>\n",
       "      <td>2022-12-11 14:28:40.487682</td>\n",
       "      <td>2022-12-11 14:48:41.118999</td>\n",
       "      <td>0 days 00:20:00.631317</td>\n",
       "      <td>relu</td>\n",
       "      <td>512</td>\n",
       "      <td>0.4</td>\n",
       "      <td>1.195931e-06</td>\n",
       "      <td>0.92</td>\n",
       "      <td>0.9500</td>\n",
       "      <td>0.000021</td>\n",
       "      <td>constant</td>\n",
       "      <td>0.3</td>\n",
       "      <td>20</td>\n",
       "      <td>512</td>\n",
       "      <td>True</td>\n",
       "      <td>0.456127</td>\n",
       "      <td>COMPLETE</td>\n",
       "    </tr>\n",
       "    <tr>\n",
       "      <th>98</th>\n",
       "      <td>98</td>\n",
       "      <td>0.250000</td>\n",
       "      <td>2022-12-11 14:48:41.286999</td>\n",
       "      <td>2022-12-11 15:08:55.079784</td>\n",
       "      <td>0 days 00:20:13.792785</td>\n",
       "      <td>leaky_relu</td>\n",
       "      <td>512</td>\n",
       "      <td>0.1</td>\n",
       "      <td>4.287088e-07</td>\n",
       "      <td>0.99</td>\n",
       "      <td>0.9900</td>\n",
       "      <td>0.000174</td>\n",
       "      <td>constant</td>\n",
       "      <td>0.3</td>\n",
       "      <td>20</td>\n",
       "      <td>128</td>\n",
       "      <td>False</td>\n",
       "      <td>0.324570</td>\n",
       "      <td>COMPLETE</td>\n",
       "    </tr>\n",
       "    <tr>\n",
       "      <th>99</th>\n",
       "      <td>99</td>\n",
       "      <td>-1.000000</td>\n",
       "      <td>2022-12-11 15:08:55.228960</td>\n",
       "      <td>2022-12-11 15:30:29.101829</td>\n",
       "      <td>0 days 00:21:33.872869</td>\n",
       "      <td>tanh</td>\n",
       "      <td>512</td>\n",
       "      <td>0.1</td>\n",
       "      <td>5.354518e-08</td>\n",
       "      <td>0.99</td>\n",
       "      <td>0.9900</td>\n",
       "      <td>0.000337</td>\n",
       "      <td>linear</td>\n",
       "      <td>1.0</td>\n",
       "      <td>20</td>\n",
       "      <td>2048</td>\n",
       "      <td>False</td>\n",
       "      <td>0.408742</td>\n",
       "      <td>COMPLETE</td>\n",
       "    </tr>\n",
       "  </tbody>\n",
       "</table>\n",
       "<p>100 rows × 19 columns</p>\n",
       "</div>"
      ],
      "text/plain": [
       "    number     value             datetime_start          datetime_complete  \\\n",
       "0        0 -1.000000 2022-12-10 02:36:45.358435 2022-12-10 02:56:45.539865   \n",
       "1        1 -1.000000 2022-12-10 02:56:45.698649 2022-12-10 03:19:24.754507   \n",
       "2        2 -1.000000 2022-12-10 03:19:24.903501 2022-12-10 03:38:40.826221   \n",
       "3        3 -1.000000 2022-12-10 03:38:40.979428 2022-12-10 03:58:47.952598   \n",
       "4        4 -1.000000 2022-12-10 03:58:48.106619 2022-12-10 04:19:56.000612   \n",
       "..     ...       ...                        ...                        ...   \n",
       "95      95 -0.583333 2022-12-11 13:48:11.435665 2022-12-11 14:08:22.484680   \n",
       "96      96  0.062500 2022-12-11 14:08:22.632682 2022-12-11 14:28:40.336682   \n",
       "97      97 -1.000000 2022-12-11 14:28:40.487682 2022-12-11 14:48:41.118999   \n",
       "98      98  0.250000 2022-12-11 14:48:41.286999 2022-12-11 15:08:55.079784   \n",
       "99      99 -1.000000 2022-12-11 15:08:55.228960 2022-12-11 15:30:29.101829   \n",
       "\n",
       "                 duration params_activation_fn  params_batch_size  \\\n",
       "0  0 days 00:20:00.181430                 relu                128   \n",
       "1  0 days 00:22:39.055858           leaky_relu                128   \n",
       "2  0 days 00:19:15.922720                 tanh                256   \n",
       "3  0 days 00:20:06.973170                  elu                256   \n",
       "4  0 days 00:21:07.893993                  elu                128   \n",
       "..                    ...                  ...                ...   \n",
       "95 0 days 00:20:11.049015           leaky_relu                512   \n",
       "96 0 days 00:20:17.704000           leaky_relu                512   \n",
       "97 0 days 00:20:00.631317                 relu                512   \n",
       "98 0 days 00:20:13.792785           leaky_relu                512   \n",
       "99 0 days 00:21:33.872869                 tanh                512   \n",
       "\n",
       "    params_clip_range  params_ent_coef  params_gae_lambda  params_gamma  \\\n",
       "0                 0.3     1.802955e-08               0.99        0.9990   \n",
       "1                 0.1     4.979379e-02               0.90        0.9999   \n",
       "2                 0.4     1.266721e-02               0.95        0.9500   \n",
       "3                 0.2     2.017828e-05               0.80        0.9800   \n",
       "4                 0.2     4.865538e-03               0.80        0.9500   \n",
       "..                ...              ...                ...           ...   \n",
       "95                0.1     3.070402e-07               0.99        0.9900   \n",
       "96                0.1     1.927717e-07               0.99        0.9900   \n",
       "97                0.4     1.195931e-06               0.92        0.9500   \n",
       "98                0.1     4.287088e-07               0.99        0.9900   \n",
       "99                0.1     5.354518e-08               0.99        0.9900   \n",
       "\n",
       "    params_learning_rate params_lr_schedule  params_max_grad_norm  \\\n",
       "0               0.000010           constant                   0.3   \n",
       "1               0.005084           constant                   0.6   \n",
       "2               0.590092           constant                   0.8   \n",
       "3               0.000188             linear                   0.8   \n",
       "4               0.000015           constant                   0.8   \n",
       "..                   ...                ...                   ...   \n",
       "95              0.000041           constant                   0.3   \n",
       "96              0.000257           constant                   0.6   \n",
       "97              0.000021           constant                   0.3   \n",
       "98              0.000174           constant                   0.3   \n",
       "99              0.000337             linear                   1.0   \n",
       "\n",
       "    params_n_epochs  params_n_steps  params_ortho_init  params_vf_coef  \\\n",
       "0                10              64               True        0.132850   \n",
       "1                20              32              False        0.834779   \n",
       "2                 5            2048               True        0.559427   \n",
       "3                10            2048               True        0.158336   \n",
       "4                10            4096               True        0.704179   \n",
       "..              ...             ...                ...             ...   \n",
       "95               20             128              False        0.365926   \n",
       "96               20             128              False        0.308513   \n",
       "97               20             512               True        0.456127   \n",
       "98               20             128              False        0.324570   \n",
       "99               20            2048              False        0.408742   \n",
       "\n",
       "       state  \n",
       "0   COMPLETE  \n",
       "1   COMPLETE  \n",
       "2   COMPLETE  \n",
       "3   COMPLETE  \n",
       "4   COMPLETE  \n",
       "..       ...  \n",
       "95  COMPLETE  \n",
       "96  COMPLETE  \n",
       "97  COMPLETE  \n",
       "98  COMPLETE  \n",
       "99  COMPLETE  \n",
       "\n",
       "[100 rows x 19 columns]"
      ]
     },
     "execution_count": 2,
     "metadata": {},
     "output_type": "execute_result"
    }
   ],
   "source": [
    "study = optuna.load_study(study_name='ppo', storage=\"sqlite:///studies/z0.db\")\n",
    "df = study.trials_dataframe()\n",
    "df"
   ]
  },
  {
   "cell_type": "code",
   "execution_count": 8,
   "metadata": {},
   "outputs": [
    {
     "data": {
      "application/vnd.plotly.v1+json": {
       "config": {
        "plotlyServerURL": "https://plot.ly"
       },
       "data": [
        {
         "mode": "markers",
         "name": "Objective Value",
         "type": "scatter",
         "x": [
          0,
          1,
          2,
          3,
          4,
          5,
          6,
          7,
          8,
          9,
          10,
          11,
          12,
          13,
          14,
          15,
          16,
          17,
          18,
          19,
          20,
          21,
          22,
          23,
          24,
          25,
          26,
          27,
          28,
          29,
          30,
          31,
          32,
          33,
          34,
          35,
          36,
          37,
          38,
          39,
          40,
          41,
          42,
          43,
          44,
          45,
          46,
          47,
          48,
          49,
          50,
          51,
          52,
          53,
          54,
          55,
          56,
          57,
          58,
          59,
          60,
          61,
          62,
          63,
          64,
          65,
          66,
          67,
          68,
          69,
          70,
          71,
          72,
          73,
          74,
          75,
          76,
          77,
          78,
          79,
          80,
          81,
          82,
          83,
          84,
          85,
          86,
          87,
          88,
          89,
          90,
          91,
          92,
          93,
          94,
          95,
          96,
          97,
          98,
          99
         ],
         "y": [
          -1,
          -1,
          -1,
          -1,
          -1,
          -1,
          -1,
          -1,
          -1,
          -0.6875,
          -1,
          -1,
          -0.6875,
          0.1874999701976776,
          0.0625,
          -1,
          -1,
          -1,
          -1,
          -1,
          0.1562499850988388,
          -1,
          0.6562499403953552,
          -0.0625000149011612,
          0.3437499701976776,
          0.4062499701976776,
          -1,
          -1,
          -1,
          -0.16666671633720398,
          -0.6875,
          0.9062500596046448,
          0.0937499925494194,
          -0.1666666865348816,
          0.5312500596046448,
          0.7187500596046448,
          0.031249966472387314,
          -1,
          -0.3749999403953552,
          -1,
          -1,
          1,
          0.7500000596046448,
          0.8125000596046448,
          -0.375,
          -1,
          -0.2708333134651184,
          0.65625,
          -0.6874999403953552,
          -1,
          -1,
          0.8125000596046448,
          -0.4791666865348816,
          -0.2708333432674408,
          -0.375,
          -1,
          0.9062500596046448,
          -1,
          -1,
          -0.3750000298023224,
          0.7187500596046448,
          -0.16666671633720398,
          0.1874999701976776,
          0.6562499403953552,
          0.40625,
          0.9062500596046448,
          -0.4791666865348816,
          -0.6875,
          0.1562499701976776,
          -1,
          -1,
          0.9062500596046448,
          0.9062500596046448,
          0.625,
          0.9062500596046448,
          0.8125000596046448,
          -1,
          0.9062500596046448,
          -0.2708333134651184,
          -1,
          -0.375,
          0.9062500596046448,
          0.34375,
          0.75,
          0.031249981373548508,
          0.75,
          0.4999999403953552,
          -1,
          0.7187500596046448,
          -1,
          -1,
          0.7187500596046448,
          1,
          -0.0625,
          0.9062500596046448,
          -0.5833333730697632,
          0.0625000149011612,
          -1,
          0.2499999701976776,
          -1
         ]
        },
        {
         "name": "Best Value",
         "type": "scatter",
         "x": [
          0,
          1,
          2,
          3,
          4,
          5,
          6,
          7,
          8,
          9,
          10,
          11,
          12,
          13,
          14,
          15,
          16,
          17,
          18,
          19,
          20,
          21,
          22,
          23,
          24,
          25,
          26,
          27,
          28,
          29,
          30,
          31,
          32,
          33,
          34,
          35,
          36,
          37,
          38,
          39,
          40,
          41,
          42,
          43,
          44,
          45,
          46,
          47,
          48,
          49,
          50,
          51,
          52,
          53,
          54,
          55,
          56,
          57,
          58,
          59,
          60,
          61,
          62,
          63,
          64,
          65,
          66,
          67,
          68,
          69,
          70,
          71,
          72,
          73,
          74,
          75,
          76,
          77,
          78,
          79,
          80,
          81,
          82,
          83,
          84,
          85,
          86,
          87,
          88,
          89,
          90,
          91,
          92,
          93,
          94,
          95,
          96,
          97,
          98,
          99
         ],
         "y": [
          -1,
          -1,
          -1,
          -1,
          -1,
          -1,
          -1,
          -1,
          -1,
          -0.6875,
          -0.6875,
          -0.6875,
          -0.6875,
          0.1874999701976776,
          0.1874999701976776,
          0.1874999701976776,
          0.1874999701976776,
          0.1874999701976776,
          0.1874999701976776,
          0.1874999701976776,
          0.1874999701976776,
          0.1874999701976776,
          0.6562499403953552,
          0.6562499403953552,
          0.6562499403953552,
          0.6562499403953552,
          0.6562499403953552,
          0.6562499403953552,
          0.6562499403953552,
          0.6562499403953552,
          0.6562499403953552,
          0.9062500596046448,
          0.9062500596046448,
          0.9062500596046448,
          0.9062500596046448,
          0.9062500596046448,
          0.9062500596046448,
          0.9062500596046448,
          0.9062500596046448,
          0.9062500596046448,
          0.9062500596046448,
          1,
          1,
          1,
          1,
          1,
          1,
          1,
          1,
          1,
          1,
          1,
          1,
          1,
          1,
          1,
          1,
          1,
          1,
          1,
          1,
          1,
          1,
          1,
          1,
          1,
          1,
          1,
          1,
          1,
          1,
          1,
          1,
          1,
          1,
          1,
          1,
          1,
          1,
          1,
          1,
          1,
          1,
          1,
          1,
          1,
          1,
          1,
          1,
          1,
          1,
          1,
          1,
          1,
          1,
          1,
          1,
          1,
          1,
          1
         ]
        }
       ],
       "layout": {
        "template": {
         "data": {
          "bar": [
           {
            "error_x": {
             "color": "#2a3f5f"
            },
            "error_y": {
             "color": "#2a3f5f"
            },
            "marker": {
             "line": {
              "color": "#E5ECF6",
              "width": 0.5
             },
             "pattern": {
              "fillmode": "overlay",
              "size": 10,
              "solidity": 0.2
             }
            },
            "type": "bar"
           }
          ],
          "barpolar": [
           {
            "marker": {
             "line": {
              "color": "#E5ECF6",
              "width": 0.5
             },
             "pattern": {
              "fillmode": "overlay",
              "size": 10,
              "solidity": 0.2
             }
            },
            "type": "barpolar"
           }
          ],
          "carpet": [
           {
            "aaxis": {
             "endlinecolor": "#2a3f5f",
             "gridcolor": "white",
             "linecolor": "white",
             "minorgridcolor": "white",
             "startlinecolor": "#2a3f5f"
            },
            "baxis": {
             "endlinecolor": "#2a3f5f",
             "gridcolor": "white",
             "linecolor": "white",
             "minorgridcolor": "white",
             "startlinecolor": "#2a3f5f"
            },
            "type": "carpet"
           }
          ],
          "choropleth": [
           {
            "colorbar": {
             "outlinewidth": 0,
             "ticks": ""
            },
            "type": "choropleth"
           }
          ],
          "contour": [
           {
            "colorbar": {
             "outlinewidth": 0,
             "ticks": ""
            },
            "colorscale": [
             [
              0,
              "#0d0887"
             ],
             [
              0.1111111111111111,
              "#46039f"
             ],
             [
              0.2222222222222222,
              "#7201a8"
             ],
             [
              0.3333333333333333,
              "#9c179e"
             ],
             [
              0.4444444444444444,
              "#bd3786"
             ],
             [
              0.5555555555555556,
              "#d8576b"
             ],
             [
              0.6666666666666666,
              "#ed7953"
             ],
             [
              0.7777777777777778,
              "#fb9f3a"
             ],
             [
              0.8888888888888888,
              "#fdca26"
             ],
             [
              1,
              "#f0f921"
             ]
            ],
            "type": "contour"
           }
          ],
          "contourcarpet": [
           {
            "colorbar": {
             "outlinewidth": 0,
             "ticks": ""
            },
            "type": "contourcarpet"
           }
          ],
          "heatmap": [
           {
            "colorbar": {
             "outlinewidth": 0,
             "ticks": ""
            },
            "colorscale": [
             [
              0,
              "#0d0887"
             ],
             [
              0.1111111111111111,
              "#46039f"
             ],
             [
              0.2222222222222222,
              "#7201a8"
             ],
             [
              0.3333333333333333,
              "#9c179e"
             ],
             [
              0.4444444444444444,
              "#bd3786"
             ],
             [
              0.5555555555555556,
              "#d8576b"
             ],
             [
              0.6666666666666666,
              "#ed7953"
             ],
             [
              0.7777777777777778,
              "#fb9f3a"
             ],
             [
              0.8888888888888888,
              "#fdca26"
             ],
             [
              1,
              "#f0f921"
             ]
            ],
            "type": "heatmap"
           }
          ],
          "heatmapgl": [
           {
            "colorbar": {
             "outlinewidth": 0,
             "ticks": ""
            },
            "colorscale": [
             [
              0,
              "#0d0887"
             ],
             [
              0.1111111111111111,
              "#46039f"
             ],
             [
              0.2222222222222222,
              "#7201a8"
             ],
             [
              0.3333333333333333,
              "#9c179e"
             ],
             [
              0.4444444444444444,
              "#bd3786"
             ],
             [
              0.5555555555555556,
              "#d8576b"
             ],
             [
              0.6666666666666666,
              "#ed7953"
             ],
             [
              0.7777777777777778,
              "#fb9f3a"
             ],
             [
              0.8888888888888888,
              "#fdca26"
             ],
             [
              1,
              "#f0f921"
             ]
            ],
            "type": "heatmapgl"
           }
          ],
          "histogram": [
           {
            "marker": {
             "pattern": {
              "fillmode": "overlay",
              "size": 10,
              "solidity": 0.2
             }
            },
            "type": "histogram"
           }
          ],
          "histogram2d": [
           {
            "colorbar": {
             "outlinewidth": 0,
             "ticks": ""
            },
            "colorscale": [
             [
              0,
              "#0d0887"
             ],
             [
              0.1111111111111111,
              "#46039f"
             ],
             [
              0.2222222222222222,
              "#7201a8"
             ],
             [
              0.3333333333333333,
              "#9c179e"
             ],
             [
              0.4444444444444444,
              "#bd3786"
             ],
             [
              0.5555555555555556,
              "#d8576b"
             ],
             [
              0.6666666666666666,
              "#ed7953"
             ],
             [
              0.7777777777777778,
              "#fb9f3a"
             ],
             [
              0.8888888888888888,
              "#fdca26"
             ],
             [
              1,
              "#f0f921"
             ]
            ],
            "type": "histogram2d"
           }
          ],
          "histogram2dcontour": [
           {
            "colorbar": {
             "outlinewidth": 0,
             "ticks": ""
            },
            "colorscale": [
             [
              0,
              "#0d0887"
             ],
             [
              0.1111111111111111,
              "#46039f"
             ],
             [
              0.2222222222222222,
              "#7201a8"
             ],
             [
              0.3333333333333333,
              "#9c179e"
             ],
             [
              0.4444444444444444,
              "#bd3786"
             ],
             [
              0.5555555555555556,
              "#d8576b"
             ],
             [
              0.6666666666666666,
              "#ed7953"
             ],
             [
              0.7777777777777778,
              "#fb9f3a"
             ],
             [
              0.8888888888888888,
              "#fdca26"
             ],
             [
              1,
              "#f0f921"
             ]
            ],
            "type": "histogram2dcontour"
           }
          ],
          "mesh3d": [
           {
            "colorbar": {
             "outlinewidth": 0,
             "ticks": ""
            },
            "type": "mesh3d"
           }
          ],
          "parcoords": [
           {
            "line": {
             "colorbar": {
              "outlinewidth": 0,
              "ticks": ""
             }
            },
            "type": "parcoords"
           }
          ],
          "pie": [
           {
            "automargin": true,
            "type": "pie"
           }
          ],
          "scatter": [
           {
            "fillpattern": {
             "fillmode": "overlay",
             "size": 10,
             "solidity": 0.2
            },
            "type": "scatter"
           }
          ],
          "scatter3d": [
           {
            "line": {
             "colorbar": {
              "outlinewidth": 0,
              "ticks": ""
             }
            },
            "marker": {
             "colorbar": {
              "outlinewidth": 0,
              "ticks": ""
             }
            },
            "type": "scatter3d"
           }
          ],
          "scattercarpet": [
           {
            "marker": {
             "colorbar": {
              "outlinewidth": 0,
              "ticks": ""
             }
            },
            "type": "scattercarpet"
           }
          ],
          "scattergeo": [
           {
            "marker": {
             "colorbar": {
              "outlinewidth": 0,
              "ticks": ""
             }
            },
            "type": "scattergeo"
           }
          ],
          "scattergl": [
           {
            "marker": {
             "colorbar": {
              "outlinewidth": 0,
              "ticks": ""
             }
            },
            "type": "scattergl"
           }
          ],
          "scattermapbox": [
           {
            "marker": {
             "colorbar": {
              "outlinewidth": 0,
              "ticks": ""
             }
            },
            "type": "scattermapbox"
           }
          ],
          "scatterpolar": [
           {
            "marker": {
             "colorbar": {
              "outlinewidth": 0,
              "ticks": ""
             }
            },
            "type": "scatterpolar"
           }
          ],
          "scatterpolargl": [
           {
            "marker": {
             "colorbar": {
              "outlinewidth": 0,
              "ticks": ""
             }
            },
            "type": "scatterpolargl"
           }
          ],
          "scatterternary": [
           {
            "marker": {
             "colorbar": {
              "outlinewidth": 0,
              "ticks": ""
             }
            },
            "type": "scatterternary"
           }
          ],
          "surface": [
           {
            "colorbar": {
             "outlinewidth": 0,
             "ticks": ""
            },
            "colorscale": [
             [
              0,
              "#0d0887"
             ],
             [
              0.1111111111111111,
              "#46039f"
             ],
             [
              0.2222222222222222,
              "#7201a8"
             ],
             [
              0.3333333333333333,
              "#9c179e"
             ],
             [
              0.4444444444444444,
              "#bd3786"
             ],
             [
              0.5555555555555556,
              "#d8576b"
             ],
             [
              0.6666666666666666,
              "#ed7953"
             ],
             [
              0.7777777777777778,
              "#fb9f3a"
             ],
             [
              0.8888888888888888,
              "#fdca26"
             ],
             [
              1,
              "#f0f921"
             ]
            ],
            "type": "surface"
           }
          ],
          "table": [
           {
            "cells": {
             "fill": {
              "color": "#EBF0F8"
             },
             "line": {
              "color": "white"
             }
            },
            "header": {
             "fill": {
              "color": "#C8D4E3"
             },
             "line": {
              "color": "white"
             }
            },
            "type": "table"
           }
          ]
         },
         "layout": {
          "annotationdefaults": {
           "arrowcolor": "#2a3f5f",
           "arrowhead": 0,
           "arrowwidth": 1
          },
          "autotypenumbers": "strict",
          "coloraxis": {
           "colorbar": {
            "outlinewidth": 0,
            "ticks": ""
           }
          },
          "colorscale": {
           "diverging": [
            [
             0,
             "#8e0152"
            ],
            [
             0.1,
             "#c51b7d"
            ],
            [
             0.2,
             "#de77ae"
            ],
            [
             0.3,
             "#f1b6da"
            ],
            [
             0.4,
             "#fde0ef"
            ],
            [
             0.5,
             "#f7f7f7"
            ],
            [
             0.6,
             "#e6f5d0"
            ],
            [
             0.7,
             "#b8e186"
            ],
            [
             0.8,
             "#7fbc41"
            ],
            [
             0.9,
             "#4d9221"
            ],
            [
             1,
             "#276419"
            ]
           ],
           "sequential": [
            [
             0,
             "#0d0887"
            ],
            [
             0.1111111111111111,
             "#46039f"
            ],
            [
             0.2222222222222222,
             "#7201a8"
            ],
            [
             0.3333333333333333,
             "#9c179e"
            ],
            [
             0.4444444444444444,
             "#bd3786"
            ],
            [
             0.5555555555555556,
             "#d8576b"
            ],
            [
             0.6666666666666666,
             "#ed7953"
            ],
            [
             0.7777777777777778,
             "#fb9f3a"
            ],
            [
             0.8888888888888888,
             "#fdca26"
            ],
            [
             1,
             "#f0f921"
            ]
           ],
           "sequentialminus": [
            [
             0,
             "#0d0887"
            ],
            [
             0.1111111111111111,
             "#46039f"
            ],
            [
             0.2222222222222222,
             "#7201a8"
            ],
            [
             0.3333333333333333,
             "#9c179e"
            ],
            [
             0.4444444444444444,
             "#bd3786"
            ],
            [
             0.5555555555555556,
             "#d8576b"
            ],
            [
             0.6666666666666666,
             "#ed7953"
            ],
            [
             0.7777777777777778,
             "#fb9f3a"
            ],
            [
             0.8888888888888888,
             "#fdca26"
            ],
            [
             1,
             "#f0f921"
            ]
           ]
          },
          "colorway": [
           "#636efa",
           "#EF553B",
           "#00cc96",
           "#ab63fa",
           "#FFA15A",
           "#19d3f3",
           "#FF6692",
           "#B6E880",
           "#FF97FF",
           "#FECB52"
          ],
          "font": {
           "color": "#2a3f5f"
          },
          "geo": {
           "bgcolor": "white",
           "lakecolor": "white",
           "landcolor": "#E5ECF6",
           "showlakes": true,
           "showland": true,
           "subunitcolor": "white"
          },
          "hoverlabel": {
           "align": "left"
          },
          "hovermode": "closest",
          "mapbox": {
           "style": "light"
          },
          "paper_bgcolor": "white",
          "plot_bgcolor": "#E5ECF6",
          "polar": {
           "angularaxis": {
            "gridcolor": "white",
            "linecolor": "white",
            "ticks": ""
           },
           "bgcolor": "#E5ECF6",
           "radialaxis": {
            "gridcolor": "white",
            "linecolor": "white",
            "ticks": ""
           }
          },
          "scene": {
           "xaxis": {
            "backgroundcolor": "#E5ECF6",
            "gridcolor": "white",
            "gridwidth": 2,
            "linecolor": "white",
            "showbackground": true,
            "ticks": "",
            "zerolinecolor": "white"
           },
           "yaxis": {
            "backgroundcolor": "#E5ECF6",
            "gridcolor": "white",
            "gridwidth": 2,
            "linecolor": "white",
            "showbackground": true,
            "ticks": "",
            "zerolinecolor": "white"
           },
           "zaxis": {
            "backgroundcolor": "#E5ECF6",
            "gridcolor": "white",
            "gridwidth": 2,
            "linecolor": "white",
            "showbackground": true,
            "ticks": "",
            "zerolinecolor": "white"
           }
          },
          "shapedefaults": {
           "line": {
            "color": "#2a3f5f"
           }
          },
          "ternary": {
           "aaxis": {
            "gridcolor": "white",
            "linecolor": "white",
            "ticks": ""
           },
           "baxis": {
            "gridcolor": "white",
            "linecolor": "white",
            "ticks": ""
           },
           "bgcolor": "#E5ECF6",
           "caxis": {
            "gridcolor": "white",
            "linecolor": "white",
            "ticks": ""
           }
          },
          "title": {
           "x": 0.05
          },
          "xaxis": {
           "automargin": true,
           "gridcolor": "white",
           "linecolor": "white",
           "ticks": "",
           "title": {
            "standoff": 15
           },
           "zerolinecolor": "white",
           "zerolinewidth": 2
          },
          "yaxis": {
           "automargin": true,
           "gridcolor": "white",
           "linecolor": "white",
           "ticks": "",
           "title": {
            "standoff": 15
           },
           "zerolinecolor": "white",
           "zerolinewidth": 2
          }
         }
        },
        "title": {
         "text": "Optimization History Plot"
        },
        "xaxis": {
         "title": {
          "text": "Trial"
         }
        },
        "yaxis": {
         "title": {
          "text": "Objective Value"
         }
        }
       }
      }
     },
     "metadata": {},
     "output_type": "display_data"
    }
   ],
   "source": [
    "plot_optimization_history(study)"
   ]
  },
  {
   "cell_type": "code",
   "execution_count": 13,
   "metadata": {},
   "outputs": [
    {
     "data": {
      "image/png": "[encoded data removed]",
      "text/plain": [
       "<Figure size 2000x600 with 1 Axes>"
      ]
     },
     "metadata": {},
     "output_type": "display_data"
    }
   ],
   "source": [
    "sns.histplot(df.value, bins=20)\n",
    "plt.show()"
   ]
  },
  {
   "cell_type": "code",
   "execution_count": 29,
   "metadata": {},
   "outputs": [
    {
     "data": {
      "image/png": "[encoded data removed]",
      "text/plain": [
       "<Figure size 3200x1500 with 16 Axes>"
      ]
     },
     "metadata": {},
     "output_type": "display_data"
    }
   ],
   "source": [
    "params_cols = df.columns[df.columns.str.startswith('params_')]\n",
    "\n",
    "fig, axes = plt.subplots(nrows=4, ncols=4, sharex=True, figsize=(32, 15))\n",
    "axes = axes.flatten()\n",
    "\n",
    "for i, param_col in enumerate(params_cols):\n",
    "    sns.scatterplot(df, y=param_col, x='value', ax=axes[i])\n",
    "for i in range(len(params_cols), axes.shape[0]):\n",
    "    axes[i].axis('off')\n",
    "plt.show()"
   ]
  }
 ],
 "metadata": {
  "kernelspec": {
   "display_name": "Python 3.8.10 ('bizket-WcSLGoAs-py3.8')",
   "language": "python",
   "name": "python3"
  },
  "language_info": {
   "codemirror_mode": {
    "name": "ipython",
    "version": 3
   },
   "file_extension": ".py",
   "mimetype": "text/x-python",
   "name": "python",
   "nbconvert_exporter": "python",
   "pygments_lexer": "ipython3",
   "version": "3.8.10"
  },
  "orig_nbformat": 4,
  "vscode": {
   "interpreter": {
    "hash": "84b17ff59f25d3b74c1decfddfedb89ef3035d55898068f137521e48cdaf55cf"
   }
  }
 },
 "nbformat": 4,
 "nbformat_minor": 2
}
